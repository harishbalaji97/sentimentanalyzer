{
 "cells": [
  {
   "cell_type": "code",
   "execution_count": 1,
   "id": "70ac0632",
   "metadata": {},
   "outputs": [],
   "source": [
    "import pandas as pd\n",
    "import numpy as np"
   ]
  },
  {
   "cell_type": "code",
   "execution_count": 2,
   "id": "ade69b50",
   "metadata": {},
   "outputs": [],
   "source": [
    "data=pd.read_csv('fgk.csv')"
   ]
  },
  {
   "cell_type": "code",
   "execution_count": 13,
   "id": "57fa7547",
   "metadata": {},
   "outputs": [],
   "source": [
    "temp1=data.groupby(['emotions1'])['From'].count().reset_index()\n",
    "temp1=temp1.sort_values('From',ascending=False)\n",
    "t=temp1['From']\n",
    "classes=temp1['emotions1']\n",
    "#temp1['Perc']=(temp1['From']/data.shape[0])*100\n",
    "temp1['perc%'] = (temp1['From'] / data.shape[0]).map(lambda num: '{0:.1f}%'.format(round(num * 100, 1)))\n",
    "temp1.rename(columns={\"emotions1\":\"Emotion\",\"perc%\":\"Percentage\"},inplace=True)\n",
    "temp1=temp1[['Emotion','Percentage']]"
   ]
  },
  {
   "cell_type": "code",
   "execution_count": 14,
   "id": "eec82617",
   "metadata": {},
   "outputs": [],
   "source": []
  },
  {
   "cell_type": "code",
   "execution_count": 15,
   "id": "82f3ff67",
   "metadata": {},
   "outputs": [
    {
     "data": {
      "text/html": [
       "<div>\n",
       "<style scoped>\n",
       "    .dataframe tbody tr th:only-of-type {\n",
       "        vertical-align: middle;\n",
       "    }\n",
       "\n",
       "    .dataframe tbody tr th {\n",
       "        vertical-align: top;\n",
       "    }\n",
       "\n",
       "    .dataframe thead th {\n",
       "        text-align: right;\n",
       "    }\n",
       "</style>\n",
       "<table border=\"1\" class=\"dataframe\">\n",
       "  <thead>\n",
       "    <tr style=\"text-align: right;\">\n",
       "      <th></th>\n",
       "      <th>Emotion</th>\n",
       "      <th>From</th>\n",
       "      <th>Percentage</th>\n",
       "    </tr>\n",
       "  </thead>\n",
       "  <tbody>\n",
       "    <tr>\n",
       "      <th>2</th>\n",
       "      <td>Happy</td>\n",
       "      <td>49</td>\n",
       "      <td>64.5%</td>\n",
       "    </tr>\n",
       "    <tr>\n",
       "      <th>1</th>\n",
       "      <td>Fear</td>\n",
       "      <td>13</td>\n",
       "      <td>17.1%</td>\n",
       "    </tr>\n",
       "    <tr>\n",
       "      <th>4</th>\n",
       "      <td>Surprise</td>\n",
       "      <td>6</td>\n",
       "      <td>7.9%</td>\n",
       "    </tr>\n",
       "    <tr>\n",
       "      <th>3</th>\n",
       "      <td>Sad</td>\n",
       "      <td>5</td>\n",
       "      <td>6.6%</td>\n",
       "    </tr>\n",
       "    <tr>\n",
       "      <th>0</th>\n",
       "      <td>Angry</td>\n",
       "      <td>3</td>\n",
       "      <td>3.9%</td>\n",
       "    </tr>\n",
       "  </tbody>\n",
       "</table>\n",
       "</div>"
      ],
      "text/plain": [
       "    Emotion  From Percentage\n",
       "2     Happy    49      64.5%\n",
       "1      Fear    13      17.1%\n",
       "4  Surprise     6       7.9%\n",
       "3       Sad     5       6.6%\n",
       "0     Angry     3       3.9%"
      ]
     },
     "execution_count": 15,
     "metadata": {},
     "output_type": "execute_result"
    }
   ],
   "source": [
    "temp1"
   ]
  },
  {
   "cell_type": "code",
   "execution_count": 16,
   "id": "6368a348",
   "metadata": {},
   "outputs": [],
   "source": [
    "\n",
    "temp1.set_index('Emotion',inplace=True)"
   ]
  },
  {
   "cell_type": "code",
   "execution_count": 17,
   "id": "31c55da5",
   "metadata": {},
   "outputs": [
    {
     "name": "stderr",
     "output_type": "stream",
     "text": [
      "C:\\Users\\HARISH~1.SAM\\AppData\\Local\\Temp/ipykernel_13532/1707854838.py:3: SettingWithCopyWarning: \n",
      "A value is trying to be set on a copy of a slice from a DataFrame.\n",
      "Try using .loc[row_indexer,col_indexer] = value instead\n",
      "\n",
      "See the caveats in the documentation: https://pandas.pydata.org/pandas-docs/stable/user_guide/indexing.html#returning-a-view-versus-a-copy\n",
      "  temp1['images']=images\n"
     ]
    },
    {
     "data": {
      "text/html": [
       "<table border=\"1\" class=\"dataframe\">\n",
       "  <thead>\n",
       "    <tr style=\"text-align: right;\">\n",
       "      <th></th>\n",
       "      <th>Percentage</th>\n",
       "      <th>images</th>\n",
       "    </tr>\n",
       "    <tr>\n",
       "      <th>Emotion</th>\n",
       "      <th></th>\n",
       "      <th></th>\n",
       "    </tr>\n",
       "  </thead>\n",
       "  <tbody>\n",
       "    <tr>\n",
       "      <th>Happy</th>\n",
       "      <td>64.5%</td>\n",
       "      <td><img src=\"happy.png\" width=\"60\" ></td>\n",
       "    </tr>\n",
       "    <tr>\n",
       "      <th>Fear</th>\n",
       "      <td>17.1%</td>\n",
       "      <td><img src=\"scared.png\" width=\"60\" ></td>\n",
       "    </tr>\n",
       "    <tr>\n",
       "      <th>Surprise</th>\n",
       "      <td>7.9%</td>\n",
       "      <td><img src=\"surprised.png\" width=\"60\" ></td>\n",
       "    </tr>\n",
       "    <tr>\n",
       "      <th>Sad</th>\n",
       "      <td>6.6%</td>\n",
       "      <td><img src=\"sad.png\" width=\"60\" ></td>\n",
       "    </tr>\n",
       "    <tr>\n",
       "      <th>Angry</th>\n",
       "      <td>3.9%</td>\n",
       "      <td><img src=\"angry.png\" width=\"60\" ></td>\n",
       "    </tr>\n",
       "  </tbody>\n",
       "</table>"
      ],
      "text/plain": [
       "<IPython.core.display.HTML object>"
      ]
     },
     "metadata": {},
     "output_type": "display_data"
    }
   ],
   "source": [
    "from IPython.core.display import display,HTML\n",
    "images=[\"happy.png\",\"scared.png\",\"surprised.png\",\"sad.png\",\"angry.png\"]\n",
    "temp1['images']=images\n",
    "def path_to_image_html(path):\n",
    "    return '<img src=\"'+ path + '\" width=\"60\" >'\n",
    "\n",
    "pd.set_option('display.max_colwidth', None)\n",
    "\n",
    "image_cols = ['images']  #<- define which columns will be used to convert to html\n",
    "\n",
    "# Create the dictionariy to be passed as formatters\n",
    "format_dict = {}\n",
    "for image_col in image_cols:\n",
    "    format_dict[image_col] = path_to_image_html\n",
    "\n",
    "\n",
    "display(HTML(temp1.to_html(escape=False ,formatters=format_dict)))"
   ]
  },
  {
   "cell_type": "code",
   "execution_count": 25,
   "id": "904e0176",
   "metadata": {},
   "outputs": [],
   "source": [
    "temp2=temp1.reset_index()[['Emotion','Percentage']]"
   ]
  },
  {
   "cell_type": "code",
   "execution_count": 27,
   "id": "ec374c0b",
   "metadata": {},
   "outputs": [],
   "source": [
    "master=temp1.reset_index()[['Emotion','images']]"
   ]
  },
  {
   "cell_type": "code",
   "execution_count": 29,
   "id": "e91a17d8",
   "metadata": {},
   "outputs": [],
   "source": [
    "master.to_csv('master_img.csv',index=False)"
   ]
  },
  {
   "cell_type": "code",
   "execution_count": 31,
   "id": "22f8f34f",
   "metadata": {},
   "outputs": [],
   "source": [
    "out=pd.merge(temp2,master,on='Emotion',how=\"left\")"
   ]
  },
  {
   "cell_type": "code",
   "execution_count": null,
   "id": "81d04d79",
   "metadata": {},
   "outputs": [],
   "source": []
  }
 ],
 "metadata": {
  "kernelspec": {
   "display_name": "Python 3 (ipykernel)",
   "language": "python",
   "name": "python3"
  },
  "language_info": {
   "codemirror_mode": {
    "name": "ipython",
    "version": 3
   },
   "file_extension": ".py",
   "mimetype": "text/x-python",
   "name": "python",
   "nbconvert_exporter": "python",
   "pygments_lexer": "ipython3",
   "version": "3.9.7"
  }
 },
 "nbformat": 4,
 "nbformat_minor": 5
}
