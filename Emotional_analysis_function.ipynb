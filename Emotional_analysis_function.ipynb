{
 "cells": [
  {
   "cell_type": "code",
   "execution_count": 10,
   "id": "6d11caab",
   "metadata": {},
   "outputs": [],
   "source": [
    "import pandas as pd\n",
    "import ast\n",
    "from nrclex import NRCLex\n",
    "import numpy as np"
   ]
  },
  {
   "cell_type": "code",
   "execution_count": 37,
   "id": "eb918e0f",
   "metadata": {},
   "outputs": [],
   "source": [
    "df=pd.read_csv('fgk.csv')"
   ]
  },
  {
   "cell_type": "code",
   "execution_count": 42,
   "id": "2704b027",
   "metadata": {},
   "outputs": [
    {
     "data": {
      "text/plain": [
       "array(['ygayathri95@yahoo.com', 'laxmi.saoji@gmail.com'], dtype=object)"
      ]
     },
     "execution_count": 42,
     "metadata": {},
     "output_type": "execute_result"
    }
   ],
   "source": [
    "df['To'].unique()"
   ]
  },
  {
   "cell_type": "code",
   "execution_count": 39,
   "id": "cf0eaef1",
   "metadata": {},
   "outputs": [
    {
     "data": {
      "text/plain": [
       "0        Trust\n",
       "1     Negative\n",
       "2     Negative\n",
       "3     Negative\n",
       "4     Negative\n",
       "        ...   \n",
       "95         Joy\n",
       "96       Trust\n",
       "97       Trust\n",
       "98         Joy\n",
       "99        Fear\n",
       "Name: emotions1, Length: 100, dtype: object"
      ]
     },
     "execution_count": 39,
     "metadata": {},
     "output_type": "execute_result"
    }
   ],
   "source": [
    "df.emotions1.str.capitalize()"
   ]
  },
  {
   "cell_type": "code",
   "execution_count": 12,
   "id": "50fa1106",
   "metadata": {},
   "outputs": [],
   "source": [
    "df['stars']=np.nan"
   ]
  },
  {
   "cell_type": "code",
   "execution_count": 13,
   "id": "a93e20ef",
   "metadata": {},
   "outputs": [
    {
     "data": {
      "text/plain": [
       "0     Negative\n",
       "1     Negative\n",
       "2     Negative\n",
       "3     Negative\n",
       "4     Negative\n",
       "        ...   \n",
       "95    Positive\n",
       "96    Positive\n",
       "97    Positive\n",
       "98    Positive\n",
       "99    Positive\n",
       "Name: Label, Length: 100, dtype: object"
      ]
     },
     "execution_count": 13,
     "metadata": {},
     "output_type": "execute_result"
    }
   ],
   "source": [
    "df['Label']"
   ]
  },
  {
   "cell_type": "code",
   "execution_count": 15,
   "id": "e7dc81ce",
   "metadata": {},
   "outputs": [
    {
     "name": "stderr",
     "output_type": "stream",
     "text": [
      "C:\\Users\\HARISH~1.SAM\\AppData\\Local\\Temp/ipykernel_2780/2881068437.py:5: SettingWithCopyWarning: \n",
      "A value is trying to be set on a copy of a slice from a DataFrame\n",
      "\n",
      "See the caveats in the documentation: https://pandas.pydata.org/pandas-docs/stable/user_guide/indexing.html#returning-a-view-versus-a-copy\n",
      "  df['stars'][i]=1\n",
      "C:\\Users\\HARISH~1.SAM\\AppData\\Local\\Temp/ipykernel_2780/2881068437.py:7: SettingWithCopyWarning: \n",
      "A value is trying to be set on a copy of a slice from a DataFrame\n",
      "\n",
      "See the caveats in the documentation: https://pandas.pydata.org/pandas-docs/stable/user_guide/indexing.html#returning-a-view-versus-a-copy\n",
      "  df['stars'][i]=3\n",
      "C:\\Users\\HARISH~1.SAM\\AppData\\Local\\Temp/ipykernel_2780/2881068437.py:3: SettingWithCopyWarning: \n",
      "A value is trying to be set on a copy of a slice from a DataFrame\n",
      "\n",
      "See the caveats in the documentation: https://pandas.pydata.org/pandas-docs/stable/user_guide/indexing.html#returning-a-view-versus-a-copy\n",
      "  df['stars'][i]=5\n"
     ]
    }
   ],
   "source": [
    "for i in np.arange(0,len(df)):\n",
    "    if df['Label'][i]==\"Positive\":\n",
    "        df['stars'][i]=5\n",
    "    elif df['Label'][i]==\"Negative\":\n",
    "        df['stars'][i]=1\n",
    "    elif df['Label'][i]=='Neutral':\n",
    "        df['stars'][i]=3\n",
    "    "
   ]
  },
  {
   "cell_type": "code",
   "execution_count": 34,
   "id": "e582a581",
   "metadata": {},
   "outputs": [],
   "source": [
    "\n",
    "def emotional(df):\n",
    "    ##finding top 10 emotions using NRCLex\n",
    "    df['raw_emotion_scores'] = df['smallwords_removed'].apply(lambda x:NRCLex(x).raw_emotion_scores if type(x)==str else False)\n",
    "    df['top_emotions'] = df['smallwords_removed'].apply(lambda x:NRCLex(x).top_emotions if type(x)==str else False)\n",
    "   # df['affect_frequencies'] = df['text'].apply(lambda x:NRCLex(x).affect_frequencies if type(x)==str else False)\n",
    "    df['affect_dict'] = df['smallwords_removed'].apply(lambda x:NRCLex(x).affect_dict if type(x)==str else False)\n",
    "    \n",
    "    ##\n",
    "   # df['updated_format']=[ast.literal_eval(df.raw_emotion_scores[x])for x in range(len(df.raw_emotion_scores))]\n",
    "    l=[]\n",
    "    for i in range(0,len(df)):\n",
    "        l1={}\n",
    "        if df.raw_emotion_scores[i]==False:\n",
    "            l.append('false')\n",
    "        else:\n",
    "            for x,y in df.raw_emotion_scores[i].items():\n",
    "                if x=='positive':\n",
    "                    pass\n",
    "                elif x=='negative':\n",
    "                    pass\n",
    "                elif x=='FALSE':\n",
    "                     pass\n",
    "                else :\n",
    "                    l1[x]=y\n",
    "            l.append(l1)    \n",
    "    df['new_dict']=l \n",
    "    ####\n",
    "    l2=[]\n",
    "    for i in range(0,len(df)):\n",
    "        if df['new_dict'][i]=='false':\n",
    "            l2.append('false')\n",
    "            pass\n",
    "        elif df['new_dict'][i]=={}:\n",
    "            l2.append('false')\n",
    "            pass\n",
    "        else:\n",
    "            maxValue = max(df['new_dict'][i].values())\n",
    "            l3=[k for k, v in df['new_dict'][i].items() if v == maxValue]\n",
    "            l2.append(l3)\n",
    "    df['new_top_emotions']=l2\n",
    "    #####\n",
    "    df1=df[['smallwords_removed','stars','raw_emotion_scores','new_dict','affect_dict','top_emotions','new_top_emotions']]\n",
    "\n",
    "    y=[]\n",
    "    for x in range(len(df)):\n",
    "        if df1['top_emotions'][x][0][0]==False:\n",
    "            y.append('neutral')\n",
    "        else:\n",
    "            y.append(df1['top_emotions'][x][0][0])\n",
    "   \n",
    "    df1['original_top_emotions']=y\n",
    "    l4=[]\n",
    "    for i in range(0,len(df1)):\n",
    "    \n",
    "    ##positive\n",
    "        if (df1.stars[i].item()==4 or df1.stars[i].item()==5):\n",
    "            if df1.original_top_emotions[i]==\"negative\":\n",
    "                l4.append(\"positive\")\n",
    "            else:\n",
    "                l4.append(df1['new_top_emotions'][i][0])\n",
    "            \n",
    "        elif (df1.stars[i].item()==1 or df1.stars[i].item()==2) :\n",
    "            if df1.original_top_emotions[i]==\"positive\":\n",
    "                l4.append(\"negative\")\n",
    "            else:\n",
    "                l4.append(df1['new_top_emotions'][i][0])\n",
    "        else:\n",
    "            l4.append(df1['new_top_emotions'][i][0])\n",
    "        \n",
    "    df1['Final']=l4\n",
    "    \n",
    "    df['emotions1']=df1['Final']\n",
    "    return df"
   ]
  },
  {
   "cell_type": "code",
   "execution_count": 36,
   "id": "176262d5",
   "metadata": {},
   "outputs": [
    {
     "data": {
      "text/plain": [
       "0        trust\n",
       "1     negative\n",
       "2     negative\n",
       "3     negative\n",
       "4     negative\n",
       "        ...   \n",
       "95         joy\n",
       "96       trust\n",
       "97       trust\n",
       "98         joy\n",
       "99        fear\n",
       "Name: emotions1, Length: 100, dtype: object"
      ]
     },
     "execution_count": 36,
     "metadata": {},
     "output_type": "execute_result"
    }
   ],
   "source": [
    "df['emotions1']"
   ]
  },
  {
   "cell_type": "code",
   "execution_count": 24,
   "id": "2e917e60",
   "metadata": {},
   "outputs": [
    {
     "data": {
      "text/plain": [
       "0        trust\n",
       "1     negative\n",
       "2     negative\n",
       "3     negative\n",
       "4     negative\n",
       "        ...   \n",
       "95         joy\n",
       "96       trust\n",
       "97       trust\n",
       "98         joy\n",
       "99        fear\n",
       "Name: Final, Length: 100, dtype: object"
      ]
     },
     "execution_count": 24,
     "metadata": {},
     "output_type": "execute_result"
    }
   ],
   "source": [
    "l"
   ]
  },
  {
   "cell_type": "code",
   "execution_count": null,
   "id": "1f704323",
   "metadata": {},
   "outputs": [],
   "source": []
  }
 ],
 "metadata": {
  "kernelspec": {
   "display_name": "Python 3 (ipykernel)",
   "language": "python",
   "name": "python3"
  },
  "language_info": {
   "codemirror_mode": {
    "name": "ipython",
    "version": 3
   },
   "file_extension": ".py",
   "mimetype": "text/x-python",
   "name": "python",
   "nbconvert_exporter": "python",
   "pygments_lexer": "ipython3",
   "version": "3.9.7"
  }
 },
 "nbformat": 4,
 "nbformat_minor": 5
}
