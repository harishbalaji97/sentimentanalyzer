{
 "cells": [
  {
   "cell_type": "code",
   "execution_count": 1,
   "id": "6d11caab",
   "metadata": {},
   "outputs": [],
   "source": [
    "import pandas as pd\n",
    "import ast\n",
    "from nrclex import NRCLex"
   ]
  },
  {
   "cell_type": "code",
   "execution_count": 18,
   "id": "eb918e0f",
   "metadata": {},
   "outputs": [],
   "source": [
    "df=pd.read_excel(r'C:\\Users\\s.a.singh.bhadauria\\OneDrive - Accenture\\Email_sentiment_analysis\\Train_V1.xlsx')"
   ]
  },
  {
   "cell_type": "code",
   "execution_count": 1,
   "id": "e582a581",
   "metadata": {},
   "outputs": [],
   "source": [
    "\n",
    "def emotional(df):\n",
    "    ##finding top 10 emotions using NRCLex\n",
    "    df['raw_emotion_scores'] = df['text'].apply(lambda x:NRCLex(x).raw_emotion_scores if type(x)==str else False)\n",
    "    df['top_emotions'] = df['text'].apply(lambda x:NRCLex(x).top_emotions if type(x)==str else False)\n",
    "   # df['affect_frequencies'] = df['text'].apply(lambda x:NRCLex(x).affect_frequencies if type(x)==str else False)\n",
    "    df['affect_dict'] = df['text'].apply(lambda x:NRCLex(x).affect_dict if type(x)==str else False)\n",
    "    \n",
    "    ##\n",
    "   # df['updated_format']=[ast.literal_eval(df.raw_emotion_scores[x])for x in range(len(df.raw_emotion_scores))]\n",
    "    l=[]\n",
    "    for i in range(0,len(df)):\n",
    "        l1={}\n",
    "        if df.raw_emotion_scores[i]==False:\n",
    "            l.append('false')\n",
    "        else:\n",
    "            for x,y in df.raw_emotion_scores[i].items():\n",
    "                if x=='positive':\n",
    "                    pass\n",
    "                elif x=='negative':\n",
    "                    pass\n",
    "                elif x=='FALSE':\n",
    "                     pass\n",
    "                else :\n",
    "                    l1[x]=y\n",
    "            l.append(l1)    \n",
    "    df['new_dict']=l \n",
    "    ####\n",
    "    l2=[]\n",
    "    for i in range(0,len(df)):\n",
    "        if df['new_dict'][i]=='false':\n",
    "            l2.append('false')\n",
    "            pass\n",
    "        elif df['new_dict'][i]=={}:\n",
    "            l2.append('false')\n",
    "            pass\n",
    "        else:\n",
    "            maxValue = max(df['new_dict'][i].values())\n",
    "            l3=[k for k, v in df['new_dict'][i].items() if v == maxValue]\n",
    "            l2.append(l3)\n",
    "    df['new_top_emotions']=l2\n",
    "    #####\n",
    "    df1=df[['text','raw_emotion_scores','stars','new_dict','affect_dict','top_emotions','new_top_emotions']]\n",
    "\n",
    "    y=[]\n",
    "    for x in range(len(df)):\n",
    "        if df1['top_emotions'][x][0][0]==False:\n",
    "            y.append('neutral')\n",
    "        else:\n",
    "            y.append(df1['top_emotions'][x][0][0])\n",
    "   \n",
    "    df1['original_top_emotions']=y\n",
    "    l4=[]\n",
    "    for i in range(0,len(df1)):\n",
    "    \n",
    "    ##positive\n",
    "        if (df1.stars[i].item()==4 or df1.stars[i].item()==5):\n",
    "            if df1.original_top_emotions[i]==\"negative\":\n",
    "                l4.append(\"positive\")\n",
    "            else:\n",
    "                l4.append(df1['new_top_emotions'][i][0])\n",
    "            \n",
    "        elif (df1.stars[i].item()==1 or df1.stars[i].item()==2) :\n",
    "            if df1.original_top_emotions[i]==\"positive\":\n",
    "                l4.append(\"negative\")\n",
    "            else:\n",
    "                l4.append(df1['new_top_emotions'][i][0])\n",
    "        else:\n",
    "            l4.append(df1['new_top_emotions'][i][0])\n",
    "        \n",
    "    df1['Final']=l4\n",
    "    return df1['Final']"
   ]
  },
  {
   "cell_type": "code",
   "execution_count": 2,
   "id": "176262d5",
   "metadata": {},
   "outputs": [
    {
     "ename": "NameError",
     "evalue": "name 'df' is not defined",
     "output_type": "error",
     "traceback": [
      "\u001b[1;31m---------------------------------------------------------------------------\u001b[0m",
      "\u001b[1;31mNameError\u001b[0m                                 Traceback (most recent call last)",
      "\u001b[1;32mC:\\Users\\HARISH~1.SAM\\AppData\\Local\\Temp/ipykernel_20972/4124653733.py\u001b[0m in \u001b[0;36m<module>\u001b[1;34m\u001b[0m\n\u001b[1;32m----> 1\u001b[1;33m \u001b[0ml\u001b[0m\u001b[1;33m=\u001b[0m\u001b[0memotional\u001b[0m\u001b[1;33m(\u001b[0m\u001b[0mdf\u001b[0m\u001b[1;33m)\u001b[0m\u001b[1;33m\u001b[0m\u001b[1;33m\u001b[0m\u001b[0m\n\u001b[0m",
      "\u001b[1;31mNameError\u001b[0m: name 'df' is not defined"
     ]
    }
   ],
   "source": [
    "l=emotional(df)"
   ]
  },
  {
   "cell_type": "code",
   "execution_count": 14,
   "id": "2e917e60",
   "metadata": {},
   "outputs": [],
   "source": [
    "Final_output=l"
   ]
  },
  {
   "cell_type": "code",
   "execution_count": null,
   "id": "1f704323",
   "metadata": {},
   "outputs": [],
   "source": []
  }
 ],
 "metadata": {
  "kernelspec": {
   "display_name": "Python 3 (ipykernel)",
   "language": "python",
   "name": "python3"
  },
  "language_info": {
   "codemirror_mode": {
    "name": "ipython",
    "version": 3
   },
   "file_extension": ".py",
   "mimetype": "text/x-python",
   "name": "python",
   "nbconvert_exporter": "python",
   "pygments_lexer": "ipython3",
   "version": "3.9.7"
  }
 },
 "nbformat": 4,
 "nbformat_minor": 5
}
